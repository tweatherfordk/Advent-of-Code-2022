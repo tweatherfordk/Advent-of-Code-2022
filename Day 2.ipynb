{
 "cells": [
  {
   "cell_type": "markdown",
   "id": "c6a03eb6",
   "metadata": {},
   "source": [
    "# Rock Paper Scissors\n",
    "- A for Rock, B for Paper, and C for Scissors\n",
    "- X for Rock, Y for Paper, and Z for Scissors\n",
    "- The score for a single round is the score for the shape you selected (1 for Rock, 2 for Paper, and 3 for Scissors) plus the score for the outcome of the round (0 if you lost, 3 if the round was a draw, and 6 if you won)"
   ]
  },
  {
   "cell_type": "code",
   "execution_count": 7,
   "id": "38235ec2",
   "metadata": {},
   "outputs": [],
   "source": [
    "from pathlib import Path\n",
    " \n",
    "data = [x for x in Path(\"AOC Data/AOC_Day2_input.txt\").read_text().split(\"\\n\")]"
   ]
  },
  {
   "cell_type": "code",
   "execution_count": 10,
   "id": "3ee7be04",
   "metadata": {},
   "outputs": [],
   "source": [
    "with open('AOC Data/AOC_Day2_input.txt', 'r') as f:\n",
    "    lines = f.readlines()\n",
    "    rounds = [entry.strip() for entry in lines]"
   ]
  },
  {
   "cell_type": "code",
   "execution_count": 12,
   "id": "dd8063c6",
   "metadata": {},
   "outputs": [],
   "source": [
    "map_input = {'A': 'Rock', 'B': 'Paper', 'C': 'Scissors', 'X': 'Rock', 'Y': 'Paper', 'Z': 'Scissors'}\n",
    "points_per_shape = {'Rock': 1, 'Paper': 2, 'Scissors': 3}\n",
    "points_per_outcome = {'Lose': 0, 'Draw': 3, 'Win': 6}"
   ]
  },
  {
   "cell_type": "code",
   "execution_count": 17,
   "id": "8edef242",
   "metadata": {},
   "outputs": [],
   "source": [
    "def points_per_round(round_string):\n",
    "    opponent_shape = map_input[round_string[0]]\n",
    "    our_shape = map_input[round_string[2]]\n",
    "\n",
    "    if opponent_shape == our_shape:\n",
    "        return points_per_outcome['Draw'] + points_per_shape[our_shape]\n",
    "    elif (opponent_shape, our_shape) in [('Paper', 'Rock'), ('Rock', 'Scissors'), ('Scissors', 'Paper')]:\n",
    "        return points_per_outcome['Lose'] + points_per_shape[our_shape]\n",
    "    else:\n",
    "        return points_per_outcome['Win'] + points_per_shape[our_shape]"
   ]
  },
  {
   "cell_type": "code",
   "execution_count": 19,
   "id": "6d1c7cb4",
   "metadata": {},
   "outputs": [
    {
     "data": {
      "text/plain": [
       "10941"
      ]
     },
     "execution_count": 19,
     "metadata": {},
     "output_type": "execute_result"
    }
   ],
   "source": [
    "sum([points_per_round(round_string) for round_string in rounds])"
   ]
  },
  {
   "cell_type": "markdown",
   "id": "6aed2c1a",
   "metadata": {},
   "source": [
    "## Part 2\n",
    "-X means you need to lose, Y means you need to end the round in a draw, and Z means you need to win."
   ]
  },
  {
   "cell_type": "code",
   "execution_count": 34,
   "id": "1ccedc51",
   "metadata": {},
   "outputs": [],
   "source": [
    "map_input = {'A': 'Rock', 'B': 'Paper', 'C': 'Scissors', 'X': 'Lose', 'Y': 'Draw', 'Z': 'Win'}\n",
    "points_per_shape = {'Rock': 1, 'Paper': 2, 'Scissors': 3}\n",
    "points_per_outcome = {'Lose': 0, 'Draw': 3, 'Win': 6}"
   ]
  },
  {
   "cell_type": "code",
   "execution_count": 40,
   "id": "7b32b2fe",
   "metadata": {},
   "outputs": [],
   "source": [
    "def points_per_round2(round_string):\n",
    "    opponent_shape = map_input[round_string[0]]\n",
    "    our_goal = map_input[round_string[2]]\n",
    "\n",
    "    if (opponent_shape, our_goal) in [('Rock', 'Draw'), ('Paper', 'Lose'),('Scissors', 'Win')]:\n",
    "        return points_per_outcome[our_goal] + points_per_shape['Rock']\n",
    "    elif (opponent_shape, our_goal) in [('Rock', 'Win'), ('Paper', 'Draw'), ('Scissors', 'Lose')]:\n",
    "        return points_per_outcome[our_goal] + points_per_shape['Paper']\n",
    "    else:\n",
    "        return points_per_outcome[our_goal] + points_per_shape['Scissors']"
   ]
  },
  {
   "cell_type": "code",
   "execution_count": 42,
   "id": "b7450a7c",
   "metadata": {},
   "outputs": [],
   "source": [
    "map_input = {'A': 'Rock', 'B': 'Paper', 'C': 'Scissors', 'X': 'Lose', 'Y': 'Draw', 'Z': 'Win'}\n",
    "points_per_shape = {'Rock': 1, 'Paper': 2, 'Scissors': 3}\n",
    "points_per_outcome = {'Lose': 0, 'Draw': 3, 'Win': 6}\n",
    "\n",
    "def points_per_round2(round_string):\n",
    "    opponent_shape = map_input[round_string[0]]\n",
    "    our_goal = map_input[round_string[2]]\n",
    "\n",
    "    if (opponent_shape, our_goal) in [('Rock', 'Draw'), ('Paper', 'Lose'), ('Scissors', 'Win')]:\n",
    "        return points_per_outcome[our_goal] + points_per_shape['Rock']\n",
    "    elif (opponent_shape, our_goal) in [('Rock', 'Win'), ('Paper', 'Draw'), ('Scissors', 'Lose')]:\n",
    "        return points_per_outcome[our_goal] + points_per_shape['Paper']\n",
    "    else:\n",
    "        return points_per_outcome[our_goal] + points_per_shape['Scissors']"
   ]
  },
  {
   "cell_type": "code",
   "execution_count": 43,
   "id": "4a1a4887",
   "metadata": {},
   "outputs": [
    {
     "data": {
      "text/plain": [
       "13071"
      ]
     },
     "execution_count": 43,
     "metadata": {},
     "output_type": "execute_result"
    }
   ],
   "source": [
    "sum([points_per_round2(round_string) for round_string in rounds])"
   ]
  },
  {
   "cell_type": "code",
   "execution_count": null,
   "id": "b1129dd6",
   "metadata": {},
   "outputs": [],
   "source": []
  }
 ],
 "metadata": {
  "kernelspec": {
   "display_name": "Python (learn-env)",
   "language": "python",
   "name": "learn-env"
  },
  "language_info": {
   "codemirror_mode": {
    "name": "ipython",
    "version": 3
   },
   "file_extension": ".py",
   "mimetype": "text/x-python",
   "name": "python",
   "nbconvert_exporter": "python",
   "pygments_lexer": "ipython3",
   "version": "3.8.5"
  }
 },
 "nbformat": 4,
 "nbformat_minor": 5
}
