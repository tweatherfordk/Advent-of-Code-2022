{
 "cells": [
  {
   "cell_type": "code",
   "execution_count": 91,
   "id": "66286b8f",
   "metadata": {},
   "outputs": [],
   "source": [
    "with open('AOC Data/AOC_Day5_input.txt', 'r') as f:\n",
    "    stacks, instructions = (i.splitlines() for i in f.read().strip(\"\\n\").split(\"\\n\\n\"))"
   ]
  },
  {
   "cell_type": "code",
   "execution_count": 92,
   "id": "bfb5fc69",
   "metadata": {
    "scrolled": true
   },
   "outputs": [
    {
     "data": {
      "text/plain": [
       "['        [Q] [B]         [H]        ',\n",
       " '    [F] [W] [D] [Q]     [S]        ',\n",
       " '    [D] [C] [N] [S] [G] [F]        ',\n",
       " '    [R] [D] [L] [C] [N] [Q]     [R]',\n",
       " '[V] [W] [L] [M] [P] [S] [M]     [M]',\n",
       " '[J] [B] [F] [P] [B] [B] [P] [F] [F]',\n",
       " '[B] [V] [G] [J] [N] [D] [B] [L] [V]',\n",
       " '[D] [P] [R] [W] [H] [R] [Z] [W] [S]',\n",
       " ' 1   2   3   4   5   6   7   8   9 ']"
      ]
     },
     "execution_count": 92,
     "metadata": {},
     "output_type": "execute_result"
    }
   ],
   "source": [
    "with open('AOC Data/AOC_Day5_input.txt', 'r') as f:\n",
    "    stack_strings, instructions = (i.splitlines() for i in f.read().strip(\"\\n\").split(\"\\n\\n\"))\n",
    "    \n",
    "stack_strings"
   ]
  },
  {
   "cell_type": "code",
   "execution_count": 99,
   "id": "50de6904",
   "metadata": {},
   "outputs": [],
   "source": [
    "stacks = {int(digit):[] for digit in stack_strings[-1].replace(\" \", \"\")}\n",
    "\n",
    "indexes = [index for index, char in enumerate(stack_strings[-1]) if char != \" \"]"
   ]
  },
  {
   "cell_type": "code",
   "execution_count": 100,
   "id": "e9dd0841",
   "metadata": {},
   "outputs": [
    {
     "name": "stdout",
     "output_type": "stream",
     "text": [
      "\n",
      "\n",
      "Stacks:\n",
      "\n",
      "1 ['D', 'B', 'J', 'V']\n",
      "2 ['P', 'V', 'B', 'W', 'R', 'D', 'F']\n",
      "3 ['R', 'G', 'F', 'L', 'D', 'C', 'W', 'Q']\n",
      "4 ['W', 'J', 'P', 'M', 'L', 'N', 'D', 'B']\n",
      "5 ['H', 'N', 'B', 'P', 'C', 'S', 'Q']\n",
      "6 ['R', 'D', 'B', 'S', 'N', 'G']\n",
      "7 ['Z', 'B', 'P', 'M', 'Q', 'F', 'S', 'H']\n",
      "8 ['W', 'L', 'F']\n",
      "9 ['S', 'V', 'F', 'M', 'R']\n",
      "\n",
      "\n"
     ]
    }
   ],
   "source": [
    "# function for displaying contents of each stack\n",
    "def displayStacks():\n",
    "    print(\"\\n\\nStacks:\\n\")\n",
    "    for stack in stacks:\n",
    "        print(stack, stacks[stack])\n",
    "    print(\"\\n\")\n",
    "    \n",
    "# load in original order of stacks, starting from top line to bottom, adding each new entry \n",
    "# to the front of the list to reflect order\n",
    "def loadStacks():\n",
    "    for string in stack_strings[:-1]:\n",
    "        stack_num = 1\n",
    "        for index in indexes:\n",
    "            if string[index] != \" \":\n",
    "                stacks[stack_num].insert(0, string[index])\n",
    "            stack_num += 1\n",
    "            \n",
    "#function to reset stacks for part 2\n",
    "def emptyStacks():\n",
    "    for stack_num in stacks:\n",
    "        stacks[stack_num].clear()\n",
    "\n",
    "#print stacks on top\n",
    "def getStackEnds():\n",
    "    answer = \"\"\n",
    "    for stack in stacks:\n",
    "        answer += stacks[stack][-1]\n",
    "    return answer\n",
    "\n",
    "loadStacks()\n",
    "displayStacks()"
   ]
  },
  {
   "cell_type": "markdown",
   "id": "c8664b1a",
   "metadata": {},
   "source": [
    "# Part 1\n",
    "- Which crate is at the top of each stack after rearrangment?"
   ]
  },
  {
   "cell_type": "code",
   "execution_count": 101,
   "id": "af51a8c1",
   "metadata": {},
   "outputs": [],
   "source": [
    "for instruction in instructions:\n",
    "    instruction = instruction.replace(\"move \", \"\").replace(\"from \", \"\").replace(\"to \", \"\").strip().split()\n",
    "    instruction = [int(i) for i in instruction]\n",
    "    \n",
    "    crates = instruction[0]\n",
    "    from_stack = instruction[1]\n",
    "    to_stack = instruction[2]\n",
    "    \n",
    "    for crate in range(crates):\n",
    "        crate_removed = stacks[from_stack].pop()\n",
    "        stacks[to_stack].append(crate_removed)"
   ]
  },
  {
   "cell_type": "code",
   "execution_count": 102,
   "id": "e4ed9a2b",
   "metadata": {},
   "outputs": [
    {
     "name": "stdout",
     "output_type": "stream",
     "text": [
      "Answer for part 1:  BSDMQFLSP\n"
     ]
    }
   ],
   "source": [
    "print(\"Answer for part 1: \", getStackEnds())"
   ]
  },
  {
   "cell_type": "markdown",
   "id": "fc6b5b33",
   "metadata": {},
   "source": [
    "# Part 2\n",
    "- Crane can move more than one crate at a time"
   ]
  },
  {
   "cell_type": "code",
   "execution_count": 118,
   "id": "d5d54eaf",
   "metadata": {
    "scrolled": false
   },
   "outputs": [
    {
     "name": "stdout",
     "output_type": "stream",
     "text": [
      "\n",
      "\n",
      "Stacks:\n",
      "\n",
      "1 ['F', 'D', 'M', 'G', 'P']\n",
      "2 ['D', 'V', 'Z', 'G']\n",
      "3 ['M', 'R', 'R', 'S', 'V', 'B', 'H', 'S']\n",
      "4 ['S', 'H', 'Q']\n",
      "5 ['D', 'L', 'C', 'N', 'B']\n",
      "6 ['D', 'P', 'J', 'W', 'C', 'B', 'S', 'N', 'F', 'L', 'F', 'W', 'R', 'Q', 'F', 'W', 'F']\n",
      "7 ['V', 'L']\n",
      "8 ['D']\n",
      "9 ['W', 'Q', 'B', 'B', 'P', 'M', 'B', 'J', 'R', 'N', 'P']\n",
      "\n",
      "\n",
      "Answer for part 2:  PGSQBFLDP\n"
     ]
    }
   ],
   "source": [
    "emptyStacks()\n",
    "loadStacks()\n",
    "\n",
    "for instruction in instructions:\n",
    "    instruction = instruction.replace(\"move \", \"\").replace(\"from \", \"\").replace(\"to \", \"\").strip().split()\n",
    "    instruction = [int(i) for i in instruction]\n",
    "    \n",
    "    crates = instruction[0]\n",
    "    from_stack = instruction[1]\n",
    "    to_stack = instruction[2]\n",
    "    \n",
    "    crates_to_remove = stacks[from_stack][-crates:] #finding which crates to remove\n",
    "    stacks[from_stack] = stacks[from_stack][:-crates] #removing crates\n",
    "    \n",
    "    for crate in crates_to_remove:\n",
    "        stacks[to_stack].append(crate) #adding crates\n",
    "        \n",
    "displayStacks()\n",
    "print(\"Answer for part 2: \", getStackEnds())"
   ]
  },
  {
   "cell_type": "code",
   "execution_count": null,
   "id": "865d72f8",
   "metadata": {},
   "outputs": [],
   "source": []
  }
 ],
 "metadata": {
  "kernelspec": {
   "display_name": "Python (learn-env)",
   "language": "python",
   "name": "learn-env"
  },
  "language_info": {
   "codemirror_mode": {
    "name": "ipython",
    "version": 3
   },
   "file_extension": ".py",
   "mimetype": "text/x-python",
   "name": "python",
   "nbconvert_exporter": "python",
   "pygments_lexer": "ipython3",
   "version": "3.8.5"
  }
 },
 "nbformat": 4,
 "nbformat_minor": 5
}
