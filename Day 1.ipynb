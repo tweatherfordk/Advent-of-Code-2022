{
 "cells": [
  {
   "cell_type": "markdown",
   "id": "95d6ab43",
   "metadata": {},
   "source": [
    "# Day 1\n",
    "\n",
    "## Elf Calorie Input"
   ]
  },
  {
   "cell_type": "code",
   "execution_count": 3,
   "id": "12538cb8",
   "metadata": {},
   "outputs": [],
   "source": [
    "from pathlib import Path\n",
    " \n",
    "data = [(int(x) if len(x) > 0 else x) for x in Path(\"AOC_Day1_input.txt\").read_text().split(\"\\n\")]"
   ]
  },
  {
   "cell_type": "code",
   "execution_count": 36,
   "id": "0251aeab",
   "metadata": {},
   "outputs": [
    {
     "name": "stdout",
     "output_type": "stream",
     "text": [
      "Highest Number of Calories per Elf:  69528\n"
     ]
    }
   ],
   "source": [
    "# Part 1\n",
    "cal = 0\n",
    "elf = []\n",
    "for line in data:\n",
    "    if line == '':\n",
    "        if cal:\n",
    "            elf.append(cal)\n",
    "            cal = 0\n",
    "        elf.append(line)\n",
    "        \n",
    "    else: \n",
    "        cal += line\n",
    "\n",
    "elf = list(set(elf))\n",
    "elf.remove('')\n",
    "print(\"Highest Number of Calories per Elf: \", max(elf))"
   ]
  },
  {
   "cell_type": "code",
   "execution_count": 50,
   "id": "c89de7d3",
   "metadata": {},
   "outputs": [
    {
     "name": "stdout",
     "output_type": "stream",
     "text": [
      "Total Calories among Top 3 Calorie-Carrying Elves:  206152\n"
     ]
    }
   ],
   "source": [
    "# Part 2\n",
    "elf.sort(reverse= True)\n",
    "top3 = sum(elf[0:3])\n",
    "print(\"Total Calories among Top 3 Calorie-Carrying Elves: \", top3)"
   ]
  }
 ],
 "metadata": {
  "kernelspec": {
   "display_name": "Python (learn-env)",
   "language": "python",
   "name": "learn-env"
  },
  "language_info": {
   "codemirror_mode": {
    "name": "ipython",
    "version": 3
   },
   "file_extension": ".py",
   "mimetype": "text/x-python",
   "name": "python",
   "nbconvert_exporter": "python",
   "pygments_lexer": "ipython3",
   "version": "3.8.5"
  }
 },
 "nbformat": 4,
 "nbformat_minor": 5
}
